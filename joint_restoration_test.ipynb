{
 "cells": [
  {
   "cell_type": "code",
   "execution_count": 1,
   "metadata": {},
   "outputs": [],
   "source": [
    "from deoldify import device\n",
    "from deoldify.device_id import DeviceId\n",
    "device.set(device=DeviceId.GPU0)\n",
    "\n",
    "import torch\n",
    "torch.cuda.is_available()\n",
    "\n",
    "from fastai.vision import *"
   ]
  },
  {
   "cell_type": "code",
   "execution_count": 2,
   "metadata": {},
   "outputs": [],
   "source": [
    "from deoldify.visualize import *\n",
    "torch.backends.cudnn.benchmark=True\n",
    "import warnings\n",
    "warnings.filterwarnings(\"ignore\", category=UserWarning, message=\".*?Your .*? set is empty.*?\")\n",
    "from PIL import Image as PilImage\n",
    "\n",
    "from deoldify.generators import *"
   ]
  },
  {
   "cell_type": "code",
   "execution_count": 3,
   "metadata": {},
   "outputs": [],
   "source": [
    "# setup input and output directories\n",
    "input_dir = './sample_images/' # directory of test images\n",
    "output_preprocess = './result_images/pre-colorization/' # directory of pre-colorization output\n",
    "output_final = './result_images/post-colorization/' # directory of final output"
   ]
  },
  {
   "cell_type": "markdown",
   "metadata": {},
   "source": [
    "## Pre-colorization: Restore Black & White images\n",
    "The restoration involves:\n",
    "- joint denoising and (low-scale) super-resolution\n",
    "- inpainting (optional)\n",
    "- face detection & enhancement"
   ]
  },
  {
   "cell_type": "code",
   "execution_count": 6,
   "metadata": {},
   "outputs": [],
   "source": [
    "%%capture\n",
    "# restore without inpainting\n",
    "!python run.py --input_folder $input_dir --output_folder $output_preprocess --GPU 0;"
   ]
  },
  {
   "cell_type": "code",
   "execution_count": null,
   "metadata": {},
   "outputs": [],
   "source": [
    "%%capture\n",
    "# restore with inpainting\n",
    "!python run.py --input_folder $input_dir --output_folder $output_preprocess --GPU 0 --with_scratch;"
   ]
  },
  {
   "cell_type": "markdown",
   "metadata": {},
   "source": [
    "## Colorization"
   ]
  },
  {
   "cell_type": "code",
   "execution_count": 7,
   "metadata": {},
   "outputs": [],
   "source": [
    "# Choose colorization model\n",
    "colorizer = get_image_colorizer(model_name = 'Colorizer_GANFineTune_bestmodel', render_factor=40)"
   ]
  },
  {
   "cell_type": "code",
   "execution_count": 8,
   "metadata": {},
   "outputs": [],
   "source": [
    "# example resize operation\n",
    "data = (ItemList.from_folder(output_preprocess+'final_output/'))\n",
    "for im in data:\n",
    "    _ = colorizer.plot_transformed_image(path=im, render_factor=40, compare=False, results_dir=output_final)"
   ]
  },
  {
   "cell_type": "code",
   "execution_count": null,
   "metadata": {},
   "outputs": [],
   "source": []
  }
 ],
 "metadata": {
  "kernelspec": {
   "display_name": "Python 3",
   "language": "python",
   "name": "python3"
  },
  "language_info": {
   "codemirror_mode": {
    "name": "ipython",
    "version": 3
   },
   "file_extension": ".py",
   "mimetype": "text/x-python",
   "name": "python",
   "nbconvert_exporter": "python",
   "pygments_lexer": "ipython3",
   "version": "3.7.9"
  }
 },
 "nbformat": 4,
 "nbformat_minor": 4
}
