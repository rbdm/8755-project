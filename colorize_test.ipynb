{
 "cells": [
  {
   "cell_type": "code",
   "execution_count": 1,
   "metadata": {},
   "outputs": [],
   "source": [
    "from deoldify import device\n",
    "from deoldify.device_id import DeviceId\n",
    "device.set(device=DeviceId.GPU0)\n",
    "\n",
    "import torch\n",
    "torch.cuda.is_available()\n",
    "\n",
    "from fastai.vision import *"
   ]
  },
  {
   "cell_type": "code",
   "execution_count": 2,
   "metadata": {},
   "outputs": [],
   "source": [
    "from deoldify.visualize import *\n",
    "torch.backends.cudnn.benchmark=True\n",
    "import warnings\n",
    "warnings.filterwarnings(\"ignore\", category=UserWarning, message=\".*?Your .*? set is empty.*?\")\n",
    "from PIL import Image as PilImage\n",
    "\n",
    "from deoldify.generators import *"
   ]
  },
  {
   "cell_type": "code",
   "execution_count": 3,
   "metadata": {},
   "outputs": [],
   "source": [
    "# Choose colorization model\n",
    "colorizer = get_image_colorizer(model_name = 'Colorizer_GANFineTune_bestmodel', render_factor=40)"
   ]
  },
  {
   "cell_type": "markdown",
   "metadata": {},
   "source": [
    "### Colorization"
   ]
  },
  {
   "cell_type": "code",
   "execution_count": 4,
   "metadata": {},
   "outputs": [],
   "source": [
    "# Colorize all files on the input_path (recursively)and saves the result to results_path\n",
    "input_path = '/mnt/Data/datasets/au_bw/results/INP/au_lg_800/final_output'\n",
    "results_path = '/mnt/Data/test/'"
   ]
  },
  {
   "cell_type": "code",
   "execution_count": 5,
   "metadata": {},
   "outputs": [],
   "source": [
    "# example resize operation\n",
    "data = (ItemList.from_folder(input_path))\n",
    "for im in data:\n",
    "    _ = colorizer.plot_transformed_image(path=im, render_factor=40, compare=False, results_dir=results_path)"
   ]
  },
  {
   "cell_type": "code",
   "execution_count": 30,
   "metadata": {},
   "outputs": [],
   "source": [
    "# example resize operation\n",
    "SRscale = 3\n",
    "patch_sizes = [1]\n",
    "\n",
    "scrape_sizes = ['lg','med','SR_3x', 'SR_4x']\n",
    "current_sizes = [800,400]\n",
    "render_factors = [90,80,70,60,50,40,30,20,10]\n",
    "\n",
    "for current_size in current_sizes:\n",
    "    for scrape_size in scrape_sizes:\n",
    "        for render_factor in render_factors:\n",
    "            input_path = '/mnt/Data/datasets/au_bw/au_'+scrape_size+'_'+str(current_size)+'/'\n",
    "            results_path = '/mnt/Data/datasets/au_bw/results/INP_CL2/au_'+scrape_size+'_'+str(current_size)+'/'+str(render_factor)+'/'\n",
    "            data = (ItemList.from_folder(input_path))\n",
    "            for im in data:\n",
    "                _ = colorizer.plot_transformed_image(path=im, render_factor=render_factor, compare=False, results_dir=results_path)"
   ]
  },
  {
   "cell_type": "code",
   "execution_count": null,
   "metadata": {},
   "outputs": [],
   "source": []
  }
 ],
 "metadata": {
  "kernelspec": {
   "display_name": "Python 3",
   "language": "python",
   "name": "python3"
  },
  "language_info": {
   "codemirror_mode": {
    "name": "ipython",
    "version": 3
   },
   "file_extension": ".py",
   "mimetype": "text/x-python",
   "name": "python",
   "nbconvert_exporter": "python",
   "pygments_lexer": "ipython3",
   "version": "3.7.9"
  },
  "toc": {
   "colors": {
    "hover_highlight": "#DAA520",
    "navigate_num": "#000000",
    "navigate_text": "#333333",
    "running_highlight": "#FF0000",
    "selected_highlight": "#FFD700",
    "sidebar_border": "#EEEEEE",
    "wrapper_background": "#FFFFFF"
   },
   "moveMenuLeft": true,
   "nav_menu": {
    "height": "67px",
    "width": "252px"
   },
   "navigate_menu": true,
   "number_sections": true,
   "sideBar": true,
   "threshold": 4,
   "toc_cell": false,
   "toc_section_display": "block",
   "toc_window_display": false,
   "widenNotebook": false
  }
 },
 "nbformat": 4,
 "nbformat_minor": 4
}
