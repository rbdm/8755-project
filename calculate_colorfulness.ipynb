{
 "cells": [
  {
   "cell_type": "code",
   "execution_count": 1,
   "metadata": {},
   "outputs": [],
   "source": [
    "import numpy as np\n",
    "import cv2\n",
    "\n",
    "import PIL.Image as PilImage\n",
    "import torch\n",
    "from fastai.core import *\n",
    "from fastai.vision import *"
   ]
  },
  {
   "cell_type": "code",
   "execution_count": 2,
   "metadata": {},
   "outputs": [],
   "source": [
    "# implementation of Hasler's measure of perceptual colorfulness (2003)\n",
    "# as reviewed by Amati et al. (2014), this method aligns well with actual survey\n",
    "# for modeling an average human's perceptual colorfulness\n",
    "def colorfulness(im: PilImage):\n",
    "    r,g,b = im.split()\n",
    "    r = np.asarray(r, dtype=\"float32\")\n",
    "    g = np.asarray(g, dtype=\"float32\")\n",
    "    b = np.asarray(b, dtype=\"float32\")\n",
    "    \n",
    "    rg = np.absolute(r - g)\n",
    "    yb = np.absolute((0.5 *(r + g)) - b)\n",
    "\n",
    "    std_rg, std_yb = np.std(rg), np.std(yb)\n",
    "    mean_rg, mean_yb = np.mean(rg), np.mean(yb)\n",
    "    \n",
    "    std_rgyb = np.sqrt(np.square(std_rg) + np.square(std_yb))\n",
    "    mean_rgyb = np.sqrt(np.square(mean_rg) + np.square(mean_yb))\n",
    "    \n",
    "    return std_rgyb + (0.3 * mean_rgyb)\n",
    "\n",
    "# Returns average colorfulness from a string or Path\n",
    "# input: path (Str), log (bool)\n",
    "# out: colorfulness (float)\n",
    "def average_colorfulness(path, log=True):\n",
    "    il = ItemList.from_folder(path)\n",
    "    \n",
    "    col = []\n",
    "    for i in il:\n",
    "        im = PilImage.open(i)\n",
    "        col.append(colorfulness(im))\n",
    "        \n",
    "    if log: print(str(path)+\" :\"+str(np.mean(col)))\n",
    "    \n",
    "    return np.mean(col) "
   ]
  },
  {
   "cell_type": "code",
   "execution_count": 3,
   "metadata": {},
   "outputs": [],
   "source": [
    "path_a = '/mnt/Data/datasets/au_bw/results/INP_CL2/au_lg_800/40/'\n",
    "path_b = '/mnt/Data/datasets/au_bw/results/INP_CL/au_lg_800/40/'\n",
    "path_c = '/mnt/Data/datasets/au_bw/results/INP_CLalt1/au_lg_800_results'"
   ]
  },
  {
   "cell_type": "code",
   "execution_count": 16,
   "metadata": {},
   "outputs": [
    {
     "name": "stdout",
     "output_type": "stream",
     "text": [
      "/mnt/Data/datasets/au_bw/results/INP_CL2/au_lg_800/40/ :36.00619385013902\n",
      "/mnt/Data/datasets/au_bw/results/INP_CL/au_lg_800/40/ :22.933120091069014\n",
      "/mnt/Data/datasets/au_bw/results/INP_CLalt1/au_lg_800_results :21.304397942607565\n"
     ]
    },
    {
     "data": {
      "text/plain": [
       "21.304397942607565"
      ]
     },
     "execution_count": 16,
     "metadata": {},
     "output_type": "execute_result"
    }
   ],
   "source": [
    "average_colorfulness(path_a)\n",
    "average_colorfulness(path_b)\n",
    "average_colorfulness(path_c)"
   ]
  },
  {
   "cell_type": "code",
   "execution_count": 17,
   "metadata": {},
   "outputs": [],
   "source": [
    "path_a = '/mnt/Data/datasets/au_bw/results/INP_CL2/au_med_800/40/'\n",
    "path_b = '/mnt/Data/datasets/au_bw/results/INP_CL/au_med_800/40/'\n",
    "path_c = '/mnt/Data/datasets/au_bw/results/INP_CLalt1/au_med_800_results'"
   ]
  },
  {
   "cell_type": "code",
   "execution_count": 18,
   "metadata": {},
   "outputs": [
    {
     "name": "stdout",
     "output_type": "stream",
     "text": [
      "/mnt/Data/datasets/au_bw/results/INP_CL2/au_med_800/40/ :36.00619385013902\n",
      "/mnt/Data/datasets/au_bw/results/INP_CL/au_med_800/40/ :21.685110721853043\n",
      "/mnt/Data/datasets/au_bw/results/INP_CLalt1/au_med_800_results :20.81742975113127\n"
     ]
    },
    {
     "data": {
      "text/plain": [
       "20.81742975113127"
      ]
     },
     "execution_count": 18,
     "metadata": {},
     "output_type": "execute_result"
    }
   ],
   "source": [
    "average_colorfulness(path_a)\n",
    "average_colorfulness(path_b)\n",
    "average_colorfulness(path_c)"
   ]
  },
  {
   "cell_type": "markdown",
   "metadata": {},
   "source": [
    "## Calculate Colorfulness"
   ]
  },
  {
   "cell_type": "code",
   "execution_count": 10,
   "metadata": {},
   "outputs": [
    {
     "name": "stdout",
     "output_type": "stream",
     "text": [
      "Data: lg 1200 90. Result: 19.88165053102307\n",
      "Data: lg 1200 80. Result: 20.59661428621389\n",
      "Data: lg 1200 70. Result: 21.366874972299527\n",
      "Data: lg 1200 60. Result: 21.914805525048337\n",
      "Data: lg 1200 50. Result: 22.614399107573625\n",
      "Data: lg 1200 40. Result: 23.660760835754246\n",
      "Data: lg 1200 30. Result: 23.858898047755535\n",
      "Data: lg 1200 20. Result: 24.574814520115243\n",
      "Data: lg 1200 10. Result: 27.050257003396972\n",
      "Data: lg 1000 90. Result: 19.915840430053553\n",
      "Data: lg 1000 80. Result: 20.638806787872674\n",
      "Data: lg 1000 70. Result: 21.351333911302394\n",
      "Data: lg 1000 60. Result: 22.112734787177324\n",
      "Data: lg 1000 50. Result: 22.522240149952413\n",
      "Data: lg 1000 40. Result: 23.565714785008502\n",
      "Data: lg 1000 30. Result: 23.893002329957216\n",
      "Data: lg 1000 20. Result: 24.646152720415504\n",
      "Data: lg 1000 10. Result: 27.0329290480542\n",
      "Data: lg 800 90. Result: 19.95738941498269\n",
      "Data: lg 800 80. Result: 20.836920763160055\n",
      "Data: lg 800 70. Result: 21.363936695254836\n",
      "Data: lg 800 60. Result: 22.06876645115085\n",
      "Data: lg 800 50. Result: 22.633637749633397\n",
      "Data: lg 800 40. Result: 23.490201950857514\n",
      "Data: lg 800 30. Result: 23.906929155310298\n",
      "Data: lg 800 20. Result: 24.537159369762676\n",
      "Data: lg 800 10. Result: 27.06368433255002\n",
      "Data: lg 600 90. Result: 19.762801695631858\n",
      "Data: lg 600 80. Result: 20.664578302820825\n",
      "Data: lg 600 70. Result: 21.294703624481546\n",
      "Data: lg 600 60. Result: 22.50985337325505\n",
      "Data: lg 600 50. Result: 22.74297335181469\n",
      "Data: lg 600 40. Result: 23.60029250990627\n",
      "Data: lg 600 30. Result: 23.819248841669328\n",
      "Data: lg 600 20. Result: 24.74590890550972\n",
      "Data: lg 600 10. Result: 27.062196465676887\n",
      "Data: lg 400 90. Result: 18.804155855833137\n",
      "Data: lg 400 80. Result: 19.360151642112804\n",
      "Data: lg 400 70. Result: 20.55623644178075\n",
      "Data: lg 400 60. Result: 21.3468498026518\n",
      "Data: lg 400 50. Result: 22.373079103926067\n",
      "Data: lg 400 40. Result: 24.38514581732732\n",
      "Data: lg 400 30. Result: 23.997458059716042\n",
      "Data: lg 400 20. Result: 24.418037516371648\n",
      "Data: lg 400 10. Result: 27.06432709586351\n",
      "Data: med 1200 90. Result: 14.965182987213135\n",
      "Data: med 1200 80. Result: 16.21884593772888\n",
      "Data: med 1200 70. Result: 17.430749396748013\n",
      "Data: med 1200 60. Result: 18.848566850450304\n",
      "Data: med 1200 50. Result: 19.723495605654186\n",
      "Data: med 1200 40. Result: 21.227195504718356\n",
      "Data: med 1200 30. Result: 21.986752574390835\n",
      "Data: med 1200 20. Result: 23.42047191535102\n",
      "Data: med 1200 10. Result: 26.541361660162607\n",
      "Data: med 1000 90. Result: 14.990263251622517\n",
      "Data: med 1000 80. Result: 16.187452686892616\n",
      "Data: med 1000 70. Result: 17.38291076564789\n",
      "Data: med 1000 60. Result: 19.00866250652737\n",
      "Data: med 1000 50. Result: 19.55689706110954\n",
      "Data: med 1000 40. Result: 21.077887929545508\n",
      "Data: med 1000 30. Result: 22.014149622334376\n",
      "Data: med 1000 20. Result: 23.521241675059\n",
      "Data: med 1000 10. Result: 26.513268660969203\n",
      "Data: med 800 90. Result: 14.988737934960259\n",
      "Data: med 800 80. Result: 16.120220960352153\n",
      "Data: med 800 70. Result: 17.394200502342645\n",
      "Data: med 800 60. Result: 18.956302826616497\n",
      "Data: med 800 50. Result: 19.728252884255514\n",
      "Data: med 800 40. Result: 20.941285397238204\n",
      "Data: med 800 30. Result: 22.00653271728092\n",
      "Data: med 800 20. Result: 23.406740624904632\n",
      "Data: med 800 10. Result: 26.50319357331594\n",
      "Data: med 600 90. Result: 15.185281704266867\n",
      "Data: med 600 80. Result: 16.40992584631178\n",
      "Data: med 600 70. Result: 17.4278997569614\n",
      "Data: med 600 60. Result: 19.085930536641015\n",
      "Data: med 600 50. Result: 19.76243410123719\n",
      "Data: med 600 40. Result: 21.116486900462043\n",
      "Data: med 600 30. Result: 21.826924859364834\n",
      "Data: med 600 20. Result: 23.640737004597984\n",
      "Data: med 600 10. Result: 26.499701774809097\n",
      "Data: med 400 90. Result: 15.013586788495381\n",
      "Data: med 400 80. Result: 16.256974953227573\n",
      "Data: med 400 70. Result: 17.49537983613544\n",
      "Data: med 400 60. Result: 18.931079134252336\n",
      "Data: med 400 50. Result: 19.690068261226017\n",
      "Data: med 400 40. Result: 21.803683805677622\n",
      "Data: med 400 30. Result: 22.040284377468957\n",
      "Data: med 400 20. Result: 23.253325275950964\n",
      "Data: med 400 10. Result: 26.48488585223092\n"
     ]
    }
   ],
   "source": [
    "# example usage\n",
    "scrape_sizes = ['lg', 'med']\n",
    "current_sizes = [1200, 1000, 800, 600, 400]\n",
    "render_factors = [90,80,70,60,50,40,30,20,10]\n",
    "\n",
    "save = [] # saved for copying convenience\n",
    "for scrape_size in scrape_sizes:\n",
    "    for current_size in current_sizes:\n",
    "        for render_factor in render_factors:\n",
    "            input_path = '/mnt/Data/datasets/au_bw/results/CL/'+ 'au_' + scrape_size + '_' + str(current_size) + '/' + str(render_factor) + '/'\n",
    "            avg_col = average_colorfulness(input_path)\n",
    "            save.append(avg_col)\n",
    "            print(\"Data: \" + scrape_size +' '+ str(current_size) +' '+ str(render_factor) + \". Result: \" + str(avg_col))"
   ]
  },
  {
   "cell_type": "code",
   "execution_count": null,
   "metadata": {},
   "outputs": [],
   "source": []
  }
 ],
 "metadata": {
  "kernelspec": {
   "display_name": "Python 3",
   "language": "python",
   "name": "python3"
  },
  "language_info": {
   "codemirror_mode": {
    "name": "ipython",
    "version": 3
   },
   "file_extension": ".py",
   "mimetype": "text/x-python",
   "name": "python",
   "nbconvert_exporter": "python",
   "pygments_lexer": "ipython3",
   "version": "3.7.9"
  }
 },
 "nbformat": 4,
 "nbformat_minor": 4
}
