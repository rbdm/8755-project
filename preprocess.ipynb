{
 "cells": [
  {
   "cell_type": "code",
   "execution_count": 4,
   "metadata": {},
   "outputs": [],
   "source": [
    "from deoldify import device\n",
    "from deoldify.device_id import DeviceId\n",
    "device.set(device=DeviceId.GPU0)\n",
    "\n",
    "import torch\n",
    "torch.cuda.is_available()\n",
    "\n",
    "from fastai.vision import *"
   ]
  },
  {
   "cell_type": "code",
   "execution_count": 5,
   "metadata": {},
   "outputs": [],
   "source": [
    "from deoldify.visualize import *\n",
    "torch.backends.cudnn.benchmark=True\n",
    "import warnings\n",
    "warnings.filterwarnings(\"ignore\", category=UserWarning, message=\".*?Your .*? set is empty.*?\")\n",
    "\n",
    "from PIL import Image as PilImage"
   ]
  },
  {
   "cell_type": "markdown",
   "metadata": {},
   "source": [
    "### Preprocess"
   ]
  },
  {
   "cell_type": "code",
   "execution_count": 8,
   "metadata": {},
   "outputs": [],
   "source": [
    "# Resizes scraped image to a common size\n",
    "# only needed to be run once after running image_scraper\n",
    "# Legacy-Large: 800, Medium: 400, Small 3x: 600, Small 4x: 800\n",
    "def preprocess_images(fn, sz=800):Colorizer_GANFineTune_bestmodel\n",
    "    dest = data_prep_path_out\n",
    "    img = PilImage.open(fn).convert('RGB') # some files are using LA format\n",
    "    img = squarify(img, sz) # squarify and scale to size\n",
    "    name = str(fn).split(\"/\")[-1]\n",
    "    name = name.split(\".\")[0]\n",
    "    img.save(dest + name + \".jpg\", \"JPEG\")\n",
    "    \n",
    "def squarify(im, sz: int=64):\n",
    "    im = im.resize((sz,sz), resample=PilImage.BICUBIC)    \n",
    "    return im"
   ]
  },
  {
   "cell_type": "code",
   "execution_count": 10,
   "metadata": {},
   "outputs": [],
   "source": [
    "# example resize operation\n",
    "data_prep_path_in = '/mnt/Data/datasets/au_bw/legacy_SR/' # source scraped file\n",
    "data_prep_path_out = '/mnt/Data/datasets/au_bw/legacy_SR_3x/' # destination folder\n",
    "\n",
    "il = ItemList.from_folder(data_prep_path_in)\n",
    "\n",
    "for im in il:\n",
    "    preprocess_images(im, 600)"
   ]
  },
  {
   "cell_type": "code",
   "execution_count": 15,
   "metadata": {},
   "outputs": [],
   "source": [
    "# sets the root directory\n",
    "path = Path('/mnt/Data/ILSVRC/Data/CLS-LOC')\n",
    "path_hr = path\n",
    "path_lr = path/'bw'\n",
    "\n",
    "# for training with paired images\n",
    "# paired at different folder before training, to reduce runtime operations\n",
    "# generate with create_training_images_pair() method\n",
    "path_lr_pair = path/'bw_pair'\n",
    "path_hr_pair = path/'col_pair'"
   ]
  },
  {
   "cell_type": "code",
   "execution_count": 16,
   "metadata": {},
   "outputs": [],
   "source": [
    "# create BW image\n",
    "def create_training_images(fn,i):\n",
    "    dest = path_lr/fn.relative_to(path_hr)\n",
    "    dest.parent.mkdir(parents=True, exist_ok=True)\n",
    "    img = pimg.open(fn).convert('LA').convert('RGB')\n",
    "    img.save(dest)\n",
    "\n",
    "# create paired BW image\n",
    "def create_training_images_pair(fn,i):\n",
    "    dest = path_lr_pair/fn.relative_to(path_hr)\n",
    "    dest.parent.mkdir(parents=True, exist_ok=True)\n",
    "    img = pimg.open(fn)#.convert('LA').convert('RGB')\n",
    "    img_pair = pimg.new('RGB', (img.width, img.height * 2))\n",
    "    img_pair.paste(img, (0,0))\n",
    "    img_pair.paste(img, (0, img.height))\n",
    "    img_pair.save(dest)\n",
    "\n",
    "# create paired color (ground truth) image\n",
    "def create_color_images_pair(fn,i):\n",
    "    dest = path_hr_pair/fn.relative_to(path_hr)\n",
    "    dest.parent.mkdir(parents=True, exist_ok=True)\n",
    "    img = pimg.open(fn)#.convert('LA').convert('RGB')\n",
    "    img_pair = pimg.new('RGB', (img.width, img.height * 2))\n",
    "    img_pair.paste(img, (0,0))\n",
    "    img_pair.paste(img, (0, img.height))\n",
    "    img_pair.save(dest)"
   ]
  },
  {
   "cell_type": "code",
   "execution_count": null,
   "metadata": {},
   "outputs": [],
   "source": []
  }
 ],
 "metadata": {
  "kernelspec": {
   "display_name": "Python 3",
   "language": "python",
   "name": "python3"
  },
  "language_info": {
   "codemirror_mode": {
    "name": "ipython",
    "version": 3
   },
   "file_extension": ".py",
   "mimetype": "text/x-python",
   "name": "python",
   "nbconvert_exporter": "python",
   "pygments_lexer": "ipython3",
   "version": "3.7.9"
  }
 },
 "nbformat": 4,
 "nbformat_minor": 4
}
